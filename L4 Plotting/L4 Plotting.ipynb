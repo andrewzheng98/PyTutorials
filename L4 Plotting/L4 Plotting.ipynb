{
 "cells": [
  {
   "cell_type": "markdown",
   "metadata": {},
   "source": [
    "# L4 Plotting\n",
    "This session we will learn to plot our data that we gather from last session.\n",
    "\n",
    "## Recap\n",
    "To recap we pulled the nuclide table and extracted the Uranium from the table and saved it as 'L4 Uranium df.csv'\n",
    "\n",
    "Lets read the csv into Python\n"
   ]
  },
  {
   "cell_type": "code",
   "execution_count": null,
   "metadata": {},
   "outputs": [],
   "source": [
    "import pandas as pd \n",
    "import plotly.graph_objects as go\n",
    "\n",
    "path = \"L4 Uranium df.csv\"\n",
    "\n",
    "def graphing_tool(path = ''):\n",
    "    df = pd.read_csv(path)\n",
    "    time = list(df.columns)[1:]\n",
    "    def time_extract(array = []):\n",
    "        time_cleaned = []\n",
    "        for item in array:\n",
    "            if item == '0.0':\n",
    "                value = 0\n",
    "            elif item[-1] == 'D':\n",
    "                value = float(item[:-1])\n",
    "            elif item[-2:] == 'HR':\n",
    "                value = float(item[:-2])/24\n",
    "            elif item[-2:] == 'MI':\n",
    "                value = float(item[:-2])/24/60\n",
    "            elif item[-1] == 'S':\n",
    "                value = float(item[:-1])/24/60/60\n",
    "            time_cleaned.append(value)\n",
    "        return time_cleaned\n",
    "    time_cleaned = time_extract(array=time)\n",
    "    # Create a figure with the first scatter plot\n",
    "    fig = go.Figure()\n",
    "    for isotope in df['NAME']:\n",
    "        index = df[df['NAME'] == isotope].index[0]\n",
    "        values = list(df.loc[index])[1:] # y value of our data\n",
    "        fig.add_trace(go.Scatter(x=time_cleaned, y=values, mode='markers+lines', name=isotope))\n",
    "    fig.update_layout(\n",
    "        title='ALL ISOTOPES',\n",
    "        xaxis_title='Time (Days)',\n",
    "        yaxis_title='Mass (g)'\n",
    "    )\n",
    "    fig.show()\n",
    "\n",
    "graphing_tool(path=path)\n",
    "# We have the imports as a separate cell to increase efficiency, so you aren't importing the library every time"
   ]
  },
  {
   "cell_type": "code",
   "execution_count": null,
   "metadata": {},
   "outputs": [],
   "source": [
    "df = pd.read_csv(\"L4 Uranium df.csv\")\n",
    "df"
   ]
  },
  {
   "cell_type": "markdown",
   "metadata": {},
   "source": [
    "Our goal is to plot the headings against the values of each row. Each row element is the mass of each isotope.\n",
    "\n",
    "However, we can see a problem with the headings, we need to edit this data"
   ]
  },
  {
   "cell_type": "code",
   "execution_count": null,
   "metadata": {},
   "outputs": [],
   "source": [
    "print(df.columns)\n",
    "time = list(df.columns)[1:]\n",
    "print(time)"
   ]
  },
  {
   "cell_type": "markdown",
   "metadata": {},
   "source": [
    "We can't plot units of '1.0S', python doesnt understand this as numeric, we need to convert it to a constant time scale, lets say in days"
   ]
  },
  {
   "cell_type": "code",
   "execution_count": null,
   "metadata": {},
   "outputs": [],
   "source": [
    "array = time\n",
    "def time_extract(array = []):\n",
    "    time_cleaned = []\n",
    "    for item in array:\n",
    "        if item == '0.0':\n",
    "            value = 0\n",
    "        elif item[-1] == 'D':\n",
    "            value = float(item[:-1])\n",
    "        elif item[-2:] == 'HR':\n",
    "            value = float(item[:-2])/24\n",
    "        elif item[-2:] == 'MI':\n",
    "            value = float(item[:-2])/24/60\n",
    "        elif item[-1] == 'S':\n",
    "            value = float(item[:-1])/24/60/60\n",
    "        time_cleaned.append(value)\n",
    "    return time_cleaned\n",
    "test = time_extract(array=time)\n",
    "print(test)"
   ]
  },
  {
   "cell_type": "markdown",
   "metadata": {},
   "source": [
    "We have the time values in days, now we need to pull the rows"
   ]
  },
  {
   "cell_type": "code",
   "execution_count": null,
   "metadata": {},
   "outputs": [],
   "source": [
    "isotope = 'U-238'\n",
    "index = df[df['NAME'] == isotope].index[0]\n",
    "values = list(df.loc[index])[1:]\n",
    "print(values)\n"
   ]
  },
  {
   "cell_type": "markdown",
   "metadata": {},
   "source": [
    "Now we have the masses (y-axis) and time values (x_axis) we can plot this.\n",
    "\n",
    "You can take many templates from online, just google \"plotly.graph_objects\" and you can see and customize them."
   ]
  },
  {
   "cell_type": "code",
   "execution_count": null,
   "metadata": {},
   "outputs": [],
   "source": [
    "# ! pip install plotly\n",
    "import plotly\n"
   ]
  },
  {
   "cell_type": "code",
   "execution_count": null,
   "metadata": {},
   "outputs": [],
   "source": [
    "for isotope in df['NAME']:\n",
    "    index = df[df['NAME'] == isotope].index[0]\n",
    "    values = list(df.loc[index])[1:]\n",
    "    fig.add_trace(go.Scatter(x=test, y=values, mode='markers+lines', name=isotope))"
   ]
  },
  {
   "cell_type": "code",
   "execution_count": null,
   "metadata": {},
   "outputs": [],
   "source": [
    "import plotly.graph_objects as go\n",
    "\n",
    "def graphing_tool(path = ''):\n",
    "    df = pd.read_csv(path)\n",
    "    time = list(df.columns)[1:]\n",
    "    def time_extract(array = []):\n",
    "        time_cleaned = []\n",
    "        for item in array:\n",
    "            if item == '0.0':\n",
    "                value = 0\n",
    "            elif item[-1] == 'D':\n",
    "                value = float(item[:-1])\n",
    "            elif item[-2:] == 'HR':\n",
    "                value = float(item[:-2])/24\n",
    "            elif item[-2:] == 'MI':\n",
    "                value = float(item[:-2])/24/60\n",
    "            elif item[-1] == 'S':\n",
    "                value = float(item[:-1])/24/60/60\n",
    "            time_cleaned.append(value)\n",
    "        return time_cleaned\n",
    "    time_cleaned = time_extract(array=time)\n",
    "    # Create a figure with the first scatter plot\n",
    "    fig = go.Figure()\n",
    "    for isotope in df['NAME']:\n",
    "        index = df[df['NAME'] == isotope].index[0]\n",
    "        values = list(df.loc[index])[1:] # y value of our data\n",
    "        fig.add_trace(go.Scatter(x=time_cleaned, y=values, mode='markers+lines', name=isotope))\n",
    "    fig.update_layout(\n",
    "        title='ALL ISOTOPES',\n",
    "        xaxis_title='Time (Days)',\n",
    "        yaxis_title='Mass (g)'\n",
    "    )\n",
    "    fig.show()\n",
    "\n",
    "graphing_tool(path=\"L4 Uranium df.csv\")"
   ]
  },
  {
   "cell_type": "code",
   "execution_count": null,
   "metadata": {},
   "outputs": [],
   "source": [
    "import numpy as np\n",
    "import plotly.graph_objects as go\n",
    "from sklearn.linear_model import LinearRegression\n",
    "from sklearn.metrics import r2_score\n",
    "\n",
    "# Sample data\n",
    "x = np.array(time)\n",
    "y = np.array(values)\n",
    "\n",
    "# Reshape the data to fit the input format required by scikit-learn\n",
    "x_reshaped = x.reshape(-1, 1)\n",
    "\n",
    "# Fit the linear regression model\n",
    "model = LinearRegression()\n",
    "model.fit(x_reshaped, y)\n",
    "\n",
    "# Make predictions\n",
    "y_pred = model.predict(x_reshaped)\n",
    "\n",
    "# Calculate R^2 value\n",
    "r2_value = r2_score(y, y_pred)\n",
    "print(r2_value)\n"
   ]
  },
  {
   "cell_type": "markdown",
   "metadata": {},
   "source": [
    "Let's put it all together into a single function"
   ]
  },
  {
   "cell_type": "code",
   "execution_count": null,
   "metadata": {},
   "outputs": [],
   "source": [
    "def display_U(df = pd.DataFrame(), isotope = 'U-230'):\n",
    "    time_values = list(df.columns)[1:]\n",
    "    def time_extract(array = []):\n",
    "        new_time = []\n",
    "        for time in array:\n",
    "            if time == '0.0': # we must hard code the case of 0.0\n",
    "                new_time.append(0)\n",
    "            elif time[-1] == 'S':\n",
    "                new_time.append(float(time[:-1])/24/60/60)\n",
    "            elif time[-2:] == 'MI':\n",
    "                new_time.append(float(time[:-2])/24/60)\n",
    "            elif time[-2:] == 'HR':\n",
    "                new_time.append(float(time[:-2])/24)\n",
    "            elif time[-1:] == 'D':\n",
    "                new_time.append(float(time[:-1]))\n",
    "        return new_time\n",
    "    time = time_extract(array = time_values)\n",
    "    index = df[df['NAME'] == isotope].index[0]\n",
    "    values = list(df.loc[index])[1:]\n",
    "    fig = go.Figure()\n",
    "    fig.add_trace(go.Scatter(x=time, y=values, mode='markers', name=f'{isotope}'))\n",
    "    fig.update_layout(\n",
    "        title=f'{isotope}',\n",
    "        xaxis_title='Time (Days)',\n",
    "        yaxis_title='Mass (g)'\n",
    "    )\n",
    "    fig.show()\n",
    "display_U(df = df, isotope = 'U-236')"
   ]
  },
  {
   "cell_type": "markdown",
   "metadata": {},
   "source": [
    "This works, however, the user has to guess and choose the isotopes, lets change this by putting an index in."
   ]
  },
  {
   "cell_type": "code",
   "execution_count": null,
   "metadata": {},
   "outputs": [],
   "source": [
    "def display_U(df = pd.DataFrame(), isotope = 'U-230', ind = 100000):\n",
    "    time_values = list(df.columns)[1:]\n",
    "    def time_extract(array = []):\n",
    "        new_time = []\n",
    "        for time in array:\n",
    "            if time == '0.0': # we must hard code the case of 0.0\n",
    "                new_time.append(0)\n",
    "            elif time[-1] == 'S':\n",
    "                new_time.append(float(time[:-1])/24/60/60)\n",
    "            elif time[-2:] == 'MI':\n",
    "                new_time.append(float(time[:-2])/24/60)\n",
    "            elif time[-2:] == 'HR':\n",
    "                new_time.append(float(time[:-2])/24)\n",
    "            elif time[-1:] == 'D':\n",
    "                new_time.append(float(time[:-1]))\n",
    "        return new_time\n",
    "    time = time_extract(array = time_values)\n",
    "    if 0 <= ind < len(df):\n",
    "        index = ind\n",
    "        isotope = df['NAME'][index]\n",
    "    else:\n",
    "        index = df[df['NAME'] == isotope].index[0]\n",
    "    values = list(df.loc[index])[1:]\n",
    "    fig = go.Figure()\n",
    "    fig.add_trace(go.Scatter(x=time, y=values, mode='markers+lines', name=f'{isotope}'))\n",
    "    fig.update_layout(\n",
    "        title=f'{isotope}',\n",
    "        xaxis_title='Time (Days)',\n",
    "        yaxis_title='Mass (g)'\n",
    "    )\n",
    "    fig.show()\n",
    "\n",
    "display_U(df = df, ind = 4)"
   ]
  },
  {
   "cell_type": "code",
   "execution_count": null,
   "metadata": {},
   "outputs": [],
   "source": []
  }
 ],
 "metadata": {
  "kernelspec": {
   "display_name": "Python 3",
   "language": "python",
   "name": "python3"
  },
  "language_info": {
   "codemirror_mode": {
    "name": "ipython",
    "version": 3
   },
   "file_extension": ".py",
   "mimetype": "text/x-python",
   "name": "python",
   "nbconvert_exporter": "python",
   "pygments_lexer": "ipython3",
   "version": "3.11.5"
  }
 },
 "nbformat": 4,
 "nbformat_minor": 2
}
