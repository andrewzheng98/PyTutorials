{
 "cells": [
  {
   "cell_type": "markdown",
   "metadata": {},
   "source": [
    "# L3 Functions and DataFrames"
   ]
  },
  {
   "cell_type": "markdown",
   "metadata": {},
   "source": [
    "## Recap\n",
    "\n",
    "Last session we finished off with for loops, we will continue to use these loops for future examples"
   ]
  },
  {
   "cell_type": "code",
   "execution_count": null,
   "metadata": {},
   "outputs": [],
   "source": [
    "# Try it yourself!\n",
    "# Scenario: A group of students ranked this lesson from 1 to 10\n",
    "array = [7,8,5,6,2,8,9,5,'fart',7,8,9,'kinda mid']\n",
    "new_array = []\n",
    "\n",
    "# 1: print out a new array of all the numbered responses\n",
    "# 2: print out the number of responses were submitted correctly\n",
    "# 3: print out the my average score as a teacher\n",
    "\n",
    "for index in range(len(array)):\n",
    "    if type(array[index]) != str:\n",
    "        new_array.append(array[index])\n",
    "print('new array: ', new_array)\n",
    "print(f'There were {len(new_array)} valid reponses')\n",
    "print(f'There average score was: {round(sum(new_array)/len(new_array),3)}')"
   ]
  },
  {
   "cell_type": "markdown",
   "metadata": {},
   "source": [
    "## Functions\n",
    "\n",
    "A function in python is a mini program packed inside a python script. It goes off the basis of inputs and outputs. \n",
    "\n",
    "The internal variables inside a function exists only inside the function. It allows for cleaner code, and versatility. \n",
    "\n",
    "This is important because, you will have many 'arrays' in your programs so you dont override variables.\n",
    "\n",
    "It is also convenient to copy techniques from older programs into newer programs, i.e you want to convert a whole array from strings to floats, you dont want to copy the whole slab of code every time\n",
    "\n",
    "Let's convert the previous question into a function"
   ]
  },
  {
   "cell_type": "code",
   "execution_count": null,
   "metadata": {},
   "outputs": [],
   "source": [
    "def array_wo_strings(array = []):\n",
    "    new_array = []\n",
    "    for index in range(len(array)):\n",
    "        if type(array[index]) != str:\n",
    "            new_array.append(array[index])\n",
    "    return new_array\n",
    "jeff = array_wo_strings(array = array)\n",
    "print(jeff)"
   ]
  },
  {
   "cell_type": "code",
   "execution_count": null,
   "metadata": {},
   "outputs": [],
   "source": [
    "def array_wo_strings_full(array = []):\n",
    "    new_array = []\n",
    "    for index in range(len(array)):\n",
    "        if type(array[index]) != str:\n",
    "            new_array.append(array[index])\n",
    "    final_array = [new_array, len(new_array), round(sum(new_array)/len(new_array),3)]\n",
    "    return final_array\n",
    "ed = array_wo_strings_full(array = array)\n",
    "print('new array: ', ed[0])\n",
    "print(f'There were {ed[1]} valid reponses')\n",
    "print(f'There average score was: {ed[2]}')"
   ]
  },
  {
   "cell_type": "code",
   "execution_count": null,
   "metadata": {},
   "outputs": [],
   "source": [
    "print(array_wo_strings())"
   ]
  },
  {
   "cell_type": "markdown",
   "metadata": {},
   "source": [
    "### Example of a Useful Function\n",
    "Lets create a function that inputs a number, and outputs it as scientific notation with 3 decimal places, this will make it easier to compare calculations later"
   ]
  },
  {
   "cell_type": "code",
   "execution_count": null,
   "metadata": {},
   "outputs": [],
   "source": [
    "def sci_notation(num = 0):\n",
    "    out = float(num)\n",
    "    return \"{:.3}\".format(out)"
   ]
  },
  {
   "cell_type": "markdown",
   "metadata": {},
   "source": [
    "### Quadratic Formula\n",
    "\n",
    "Next we will try to write the quadratic formula. We know the inputs are a,b,c for y=ax^2+bx+c.\n",
    "\n",
    "I will get you started:"
   ]
  },
  {
   "cell_type": "code",
   "execution_count": null,
   "metadata": {},
   "outputs": [],
   "source": [
    "def quad_f(a = 0, b = 0, c = 0): # Best practice to set initial values just incase the user doesnt put any\n",
    "    if 4*a*c > b^2:\n",
    "        return 'THIS IS TOO COMPLEX FOR ME!'\n",
    "    else:\n",
    "        ans1 = float((-b+(b**2-4*a*c)**(1/2))/(2*a))\n",
    "        ans2 = float((-b-(b**2-4*a*c)**(1/2))/(2*a))\n",
    "        if ans1 == ans2:\n",
    "            return ans1\n",
    "        return [ans1, ans2]\n",
    "print(quad_f(a = 1, b = -3, c = 2))"
   ]
  },
  {
   "cell_type": "code",
   "execution_count": null,
   "metadata": {},
   "outputs": [],
   "source": [
    "def quad_f(a=0, b=0, c=0):\n",
    "    discriminant = b**2 - 4*a*c\n",
    "    if discriminant < 0:\n",
    "        return 'No real roots'\n",
    "    elif discriminant == 0:\n",
    "        return -b / (2*a)\n",
    "    else:\n",
    "        root1 = (-b + discriminant**(1/2)) / (2*a)\n",
    "        root2 = (-b - discriminant**(1/2)) / (2*a)\n",
    "        return root1, root2\n",
    "\n",
    "print(quad_f(a=1, b=-3, c=2))  # Output: (2.0, 1.0)\n"
   ]
  },
  {
   "cell_type": "markdown",
   "metadata": {},
   "source": [
    "## Importing Packages\n",
    "\n",
    "As mentioned previously, there are limitations to python, we will use packages to help us do more useful tasks.\n",
    "\n",
    "To import packages you can go to the command prompt and type \"pip install numpy\" (using numpy as an example). However, in Jupyter you can do the same with an \"!\" instead.\n",
    "\n",
    "Go to a cell code and type the following:"
   ]
  },
  {
   "cell_type": "code",
   "execution_count": null,
   "metadata": {},
   "outputs": [],
   "source": [
    "! pip install numpy"
   ]
  },
  {
   "cell_type": "markdown",
   "metadata": {},
   "source": [
    "Great, we have just installed numpy into our computer, we will call numpy with the following command. \n",
    "\n",
    "Try to keep the naming conventions too, as all python users use these naming conventions."
   ]
  },
  {
   "cell_type": "code",
   "execution_count": null,
   "metadata": {},
   "outputs": [],
   "source": [
    "import numpy as np "
   ]
  },
  {
   "cell_type": "markdown",
   "metadata": {},
   "source": [
    "### Numpy Standardised Test 1\n",
    "To test the performance of numpy, lets first SUM a large array of numbers"
   ]
  },
  {
   "cell_type": "code",
   "execution_count": null,
   "metadata": {},
   "outputs": [],
   "source": [
    "ans = 0\n",
    "for i in range(500000001):\n",
    "    ans += i # What does this do? Maybe we should check it out\n",
    "print(sci_notation(ans))"
   ]
  },
  {
   "cell_type": "code",
   "execution_count": null,
   "metadata": {},
   "outputs": [],
   "source": [
    "ans = sum(range(500000001))\n",
    "print(sci_notation(ans))"
   ]
  },
  {
   "cell_type": "code",
   "execution_count": null,
   "metadata": {},
   "outputs": [],
   "source": [
    "ans = np.sum(np.arange(500000001, dtype=np.int64))\n",
    "print(sci_notation(ans))"
   ]
  },
  {
   "cell_type": "code",
   "execution_count": null,
   "metadata": {},
   "outputs": [],
   "source": [
    "# Whats this?\n",
    "n = 500000001\n",
    "ans = (n * (n + 1)) // 2\n",
    "print(sci_notation(ans))"
   ]
  },
  {
   "cell_type": "markdown",
   "metadata": {},
   "source": [
    "### Numpy Standardised Test 2\n",
    "Lets run a test to append arrays"
   ]
  },
  {
   "cell_type": "code",
   "execution_count": null,
   "metadata": {},
   "outputs": [],
   "source": [
    "array = []\n",
    "for i in range(150000):\n",
    "    array.append(0)\n",
    "print(len(array))"
   ]
  },
  {
   "cell_type": "code",
   "execution_count": null,
   "metadata": {},
   "outputs": [],
   "source": [
    "np_array = np.array([])\n",
    "for i in np.arange(150000):\n",
    "    np_array = np.append(np_array , 0)\n",
    "print(len(np_array))"
   ]
  },
  {
   "cell_type": "markdown",
   "metadata": {},
   "source": [
    "We can see that numpy is effective for some applications and not for others and its important to evaluate when its applicable!"
   ]
  },
  {
   "cell_type": "markdown",
   "metadata": {},
   "source": [
    "## What is Numpy actually used for?\n",
    "Numpy is EXCELLENT at vectorisation, meaning making calculations through a whole array. "
   ]
  },
  {
   "cell_type": "code",
   "execution_count": null,
   "metadata": {},
   "outputs": [],
   "source": [
    "rows = 100000001\n",
    "energy_bands = list(range(rows))\n",
    "test = []\n",
    "total_energy = 0\n",
    "for i in range(len(energy_bands)):\n",
    "    test.append((energy_bands[i])**(1/2))\n",
    "print(test[-1])"
   ]
  },
  {
   "cell_type": "code",
   "execution_count": null,
   "metadata": {},
   "outputs": [],
   "source": [
    "rows = 100000001\n",
    "energy_bands = np.arange(rows,dtype=np.int64)\n",
    "photon_counts = np.arange(rows)\n",
    "test = np.sqrt(energy_bands)\n",
    "print(test[-1])"
   ]
  },
  {
   "cell_type": "markdown",
   "metadata": {},
   "source": [
    "## Pandas\n",
    "\n",
    "Pandas is a tool used for Data Frames. Data Frames are a 2 dimensional data sets ,just like tables or excel sheets. Lets go through an example on how to use it."
   ]
  },
  {
   "cell_type": "code",
   "execution_count": null,
   "metadata": {},
   "outputs": [],
   "source": [
    "#! pip install pandas\n",
    "import pandas as pd"
   ]
  },
  {
   "cell_type": "markdown",
   "metadata": {},
   "source": [
    "### Dictionaries\n",
    "Dictionaries are another data type just like an array, they are not as important for our purpose but here are some examples. \n",
    "\n",
    "Think of dictionaries like folder directory in your computer, folders can be inside folders, and folders can have files. \n",
    "\n",
    "For a dictionary, they have keys and values, the keys are typically names but the values can be any data structure (they can even be other dictionaries).\n",
    "\n",
    "For a pandas df, we will use the dictionary structure of a key and an array"
   ]
  },
  {
   "cell_type": "code",
   "execution_count": null,
   "metadata": {},
   "outputs": [],
   "source": [
    "dict = {}\n",
    "dict['A'] = [1,2,3]\n",
    "dict['B'] = [4,5,6]\n",
    "dict['C'] = [7,8,9]\n",
    "print(dict)\n",
    "df = pd.DataFrame(dict)\n",
    "print(df)"
   ]
  },
  {
   "cell_type": "markdown",
   "metadata": {},
   "source": [
    "Just like excel sheets, you can manipulate the df by restructuring and ordering lets see some functions\n"
   ]
  },
  {
   "cell_type": "code",
   "execution_count": null,
   "metadata": {},
   "outputs": [],
   "source": [
    "# Add a column\n",
    "new_list = [1,2,3]\n",
    "df['D'] = new_list\n",
    "df"
   ]
  },
  {
   "cell_type": "code",
   "execution_count": null,
   "metadata": {},
   "outputs": [],
   "source": [
    "# Add a row\n",
    "new_row = [0,0,0,0]\n",
    "df.loc[len(df)] = new_row\n",
    "df"
   ]
  },
  {
   "cell_type": "code",
   "execution_count": null,
   "metadata": {},
   "outputs": [],
   "source": [
    "# Remove column 'D'\n",
    "df = df.drop('D', axis = 1)\n",
    "df"
   ]
  },
  {
   "cell_type": "code",
   "execution_count": null,
   "metadata": {},
   "outputs": [],
   "source": [
    "# Remove the last row\n",
    "df = df.drop(len(df)-1)\n",
    "df"
   ]
  },
  {
   "cell_type": "code",
   "execution_count": null,
   "metadata": {},
   "outputs": [],
   "source": [
    "# rearrange the df or cut columns out\n",
    "new_order = ['C', 'A']\n",
    "df = df[new_order]\n",
    "df"
   ]
  },
  {
   "cell_type": "markdown",
   "metadata": {},
   "source": [
    "### Let's do an example\n",
    "\n",
    "We start by importing the csv (comma separated value)"
   ]
  },
  {
   "cell_type": "code",
   "execution_count": null,
   "metadata": {},
   "outputs": [],
   "source": [
    "df = pd.read_csv('L3 example.csv')#, index_col = None)\n",
    "df # mhmm what is this?"
   ]
  },
  {
   "cell_type": "code",
   "execution_count": null,
   "metadata": {},
   "outputs": [],
   "source": [
    "pd.set_option('display.max_rows', None)\n",
    "pd.set_option('display.max_columns', None)\n",
    "df.tail(100)"
   ]
  },
  {
   "cell_type": "markdown",
   "metadata": {},
   "source": [
    "### Challenge Task\n",
    "Our task will be to extract all the rows that are Uranium"
   ]
  },
  {
   "cell_type": "code",
   "execution_count": null,
   "metadata": {},
   "outputs": [],
   "source": [
    "### LIVE CODING TIME ###\n",
    "cols = df.columns\n",
    "U_df = pd.DataFrame(columns = cols)\n",
    "for i in range(len(df['NAME'])):\n",
    "    isotope = df['NAME'][i]\n",
    "    if isotope[0] == \"U\":\n",
    "        U_df.loc[len(U_df)] = df.iloc[i]\n",
    "U_df"
   ]
  },
  {
   "cell_type": "code",
   "execution_count": null,
   "metadata": {},
   "outputs": [],
   "source": [
    "# Save the df\n",
    "U_df.to_csv('L4 Uranium df.csv', index = False)"
   ]
  },
  {
   "cell_type": "code",
   "execution_count": null,
   "metadata": {},
   "outputs": [],
   "source": []
  }
 ],
 "metadata": {
  "kernelspec": {
   "display_name": "Python 3",
   "language": "python",
   "name": "python3"
  },
  "language_info": {
   "codemirror_mode": {
    "name": "ipython",
    "version": 3
   },
   "file_extension": ".py",
   "mimetype": "text/x-python",
   "name": "python",
   "nbconvert_exporter": "python",
   "pygments_lexer": "ipython3",
   "version": "undefined.undefined.undefined"
  }
 },
 "nbformat": 4,
 "nbformat_minor": 2
}
