{
 "cells": [
  {
   "cell_type": "markdown",
   "metadata": {},
   "source": [
    "# L2 Python fundamentals\n",
    "Welcome back, I see you made it here on time!\n",
    "\n",
    "We are going to continue learning lots of fun things about python. You dont need to copy this code, just work directly on here and use this document as reference. You will remember all of this soon enough!\n",
    "\n"
   ]
  },
  {
   "cell_type": "markdown",
   "metadata": {},
   "source": [
    "## Comments in Python\n",
    "Comments are ways of telling the computer to ignore the following text. This can be used for referencing or making code clean.\n",
    "\n",
    "There are 2 ways of commenting in python: # will comment everything after the #\n",
    "\n",
    "Triple quotes ''' comment everything between the triple '''"
   ]
  },
  {
   "cell_type": "code",
   "execution_count": null,
   "metadata": {},
   "outputs": [],
   "source": [
    "'''\n",
    "print('comment gone?')\n",
    "print('where is I go?')\n",
    "'''\n",
    "# I can do this\n",
    "\n",
    "print('comment section') # comment in line"
   ]
  },
  {
   "cell_type": "markdown",
   "metadata": {},
   "source": [
    "## Type function\n",
    "The type function tells you what the data type is, its quote handy in some cases"
   ]
  },
  {
   "cell_type": "code",
   "execution_count": null,
   "metadata": {},
   "outputs": [],
   "source": [
    "print(type(1+1)) # Integer\n",
    "print(type(1.5+1.75)) # float\n",
    "print(type(1*2.5)) # float\n",
    "print(type(2*2.5)) # float\n",
    "print(type(\"Hello World\"*2)) # string"
   ]
  },
  {
   "cell_type": "markdown",
   "metadata": {},
   "source": [
    "# Variables\n",
    "Python reads from left to right and variables are characters that store data in them. Check the examples below.\n",
    "\n",
    "The equals sign '=' denotes an assignment, meaning you assign the variable something to the right.\n",
    "\n",
    "These examples are quite a step, but you dont need to remember them, just know these exist. Focus on understanding variables!"
   ]
  },
  {
   "cell_type": "code",
   "execution_count": null,
   "metadata": {},
   "outputs": [],
   "source": [
    "var1 = 1\n",
    "var2 = 2\n",
    "print('I am var1:', var1)\n",
    "print(var1+var2, var1*var2)\n",
    "print(var2**3)\n",
    "print(type(float(var2)))"
   ]
  },
  {
   "cell_type": "markdown",
   "metadata": {},
   "source": [
    "## Arrays\n",
    "Arrays are also known as lists are a convenient way to store data given by square brackets []\n",
    "\n",
    "Once something is an array, you can get specific elements inside the array, the beginning starts at 0"
   ]
  },
  {
   "cell_type": "code",
   "execution_count": null,
   "metadata": {},
   "outputs": [],
   "source": [
    "array = [1+1, 1.5+1.75, 1*2.5, 2*2.5, \"Hello World\"*2]\n",
    "print(array[0]) # first element\n",
    "print(array[1]) # second element\n",
    "print(array[2]) # third element\n",
    "print(array[3]) # forth element\n",
    "print(array[4]) # fifth Element\n",
    "print(type(array[0])) # type of first element\n",
    "print(array[-1]) # last element\n",
    "print(len(array)) # prints the size of the array"
   ]
  },
  {
   "cell_type": "code",
   "execution_count": null,
   "metadata": {},
   "outputs": [],
   "source": [
    "# Try it yourself!\n",
    "# What is the answer of the second last element of the array when you multiply it by 4\n",
    "# The answer should be 20, but what is the code?\n",
    "\n",
    "### CODE HERE ###\n",
    "### CODE HERE ###\n",
    "### CODE HERE ###"
   ]
  },
  {
   "cell_type": "markdown",
   "metadata": {},
   "source": [
    "To add something to a list, you call the append function like this:"
   ]
  },
  {
   "cell_type": "code",
   "execution_count": null,
   "metadata": {},
   "outputs": [],
   "source": [
    "array = [1+1, 1.5+1.75, 1*2.5, 2*2.5, \"Hello World\"*2]\n",
    "print(array) # for reference\n",
    "\n",
    "array.append('LAST ELEMENT')\n",
    "print(array) # new one"
   ]
  },
  {
   "cell_type": "markdown",
   "metadata": {},
   "source": [
    "## Loops\n",
    "Get ready because this is when it gets complicated. Looping through the array makes a manual task a lot easier. We will now go through the array and print out the values\n",
    "\n",
    "Have a read of the code and try to understand the syntax"
   ]
  },
  {
   "cell_type": "code",
   "execution_count": null,
   "metadata": {},
   "outputs": [],
   "source": [
    "array = [1+1, 1.5+1.75, 1*2.5, 2*2.5, \"Hello World\"*2]\n",
    "for element in array: \n",
    "    print(element)\n",
    "# 'element' is completely arbitrary, just remember what you called it\n",
    "# 'array' however, is not because we defined the array to be called 'array'"
   ]
  },
  {
   "cell_type": "code",
   "execution_count": null,
   "metadata": {},
   "outputs": [],
   "source": [
    "# Your turn!\n",
    "# Copy and edit the code, but I want to print out the data type (type()) of each element\n",
    "\n",
    "### CODE HERE ###\n",
    "### CODE HERE ###\n",
    "### CODE HERE ###"
   ]
  },
  {
   "cell_type": "markdown",
   "metadata": {},
   "source": [
    "Another way to do it!\n",
    "\n",
    "This way is a little better, as you have more control of the data, takes more computation though."
   ]
  },
  {
   "cell_type": "code",
   "execution_count": null,
   "metadata": {},
   "outputs": [],
   "source": [
    "array = [1+1, 1.5+1.75, 1*2.5, 2*2.5, \"Hello World\"*2]\n",
    "print(len(array)) # Length of array\n",
    "print(range(len(array))) # What is this?\n",
    "print(list(range(len(array)))) # force a list out with list()\n",
    "for index in range(len(array)):\n",
    "    print(array[index])"
   ]
  },
  {
   "cell_type": "markdown",
   "metadata": {},
   "source": [
    "## Challenge!!\n",
    "\n",
    "Try to understand this code and explain what it does given its outputs. "
   ]
  },
  {
   "cell_type": "code",
   "execution_count": null,
   "metadata": {},
   "outputs": [],
   "source": [
    "array = [1+1, 1.5+1.75, 1*2.5, 2*2.5, \"Hello World\"*2]\n",
    "new_array = []\n",
    "for index in range(len(array)):\n",
    "    if type(array[index]) == float: #WOAHHH What is that!\n",
    "        new_array.append(array[index])\n",
    "print(new_array)"
   ]
  },
  {
   "cell_type": "markdown",
   "metadata": {},
   "source": [
    "If you can decipher the code, you can understand it like a new language, dare I say, you speak Python now!"
   ]
  },
  {
   "cell_type": "code",
   "execution_count": null,
   "metadata": {},
   "outputs": [],
   "source": [
    "array = [1+1, 1.5+1.75, 1*2.5, 2*2.5, \"Hello World\"*2]\n",
    "new_array = []\n",
    "for index in range(len(array)):\n",
    "    if type(array[index]) != str: # What could this mean?\n",
    "        new_array.append(array[index])\n",
    "print(new_array)"
   ]
  },
  {
   "cell_type": "code",
   "execution_count": null,
   "metadata": {},
   "outputs": [],
   "source": [
    "# Try it yourself!\n",
    "# Scenario: A group of students ranked this lesson from 1 to 10\n",
    "array = [7,8,5,6,2,8,9,5,'fart',7,8,9,'kinda mid']\n",
    "new_array = []\n",
    "\n",
    "# 1: print out a new array of all the numbered responses\n",
    "# 2: print out the number of responses were submitted correctly\n",
    "# 3: print out the my average score as a teacher\n",
    "\n",
    "for index in range(len(array)):\n",
    "    ### CODE HERE ###\n",
    "    ### CODE HERE ###\n",
    "    ### CODE HERE ###\n"
   ]
  }
 ],
 "metadata": {
  "kernelspec": {
   "display_name": "Python 3",
   "language": "python",
   "name": "python3"
  },
  "language_info": {
   "codemirror_mode": {
    "name": "ipython",
    "version": 3
   },
   "file_extension": ".py",
   "mimetype": "text/x-python",
   "name": "python",
   "nbconvert_exporter": "python",
   "pygments_lexer": "ipython3",
   "version": "3.11.5"
  }
 },
 "nbformat": 4,
 "nbformat_minor": 2
}
