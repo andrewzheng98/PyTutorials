{
 "cells": [
  {
   "cell_type": "markdown",
   "metadata": {},
   "source": [
    "# L5 Neutron Cross Sections\n",
    "\n",
    "In this lesson we will build a function that extracts the Neutron Cross Section of isotopes in various conditions. \n",
    "\n",
    "We will work on extracting data from texts, and building a complete function. We will be taking the data from the Origen data banks"
   ]
  },
  {
   "cell_type": "markdown",
   "metadata": {},
   "source": [
    "## Import the data \n",
    "In this folder we have 4 data sets. \n",
    "1. Thermal Neutrons in Water (Thermal)\n",
    "2. Fast Neutrons in Water (PWRU50)\n",
    "3. Thermal Neutrons in Heavy Water (CANDONAU)\n",
    "4. Fast Neutrons in Heavy Water (CANDOSEU)\n",
    "\n",
    "We will extract the data from Thermal first and then try generalising it."
   ]
  },
  {
   "cell_type": "code",
   "execution_count": null,
   "metadata": {},
   "outputs": [],
   "source": [
    "with open('THERMAL.LIB','r') as f:\n",
    "    text = f.read()\n",
    "print(text)"
   ]
  },
  {
   "cell_type": "markdown",
   "metadata": {},
   "source": [
    "We can see the text being printed, but some texts aren't displayed. In most txt files, there are hidden \"\\n\" characters that split the lines"
   ]
  },
  {
   "cell_type": "code",
   "execution_count": null,
   "metadata": {},
   "outputs": [],
   "source": [
    "text_split = text.split(\"\\n\")\n",
    "print(text_split)"
   ]
  },
  {
   "cell_type": "markdown",
   "metadata": {},
   "source": [
    "This text is now split to each line, and it has created an ARRAY for each of these lines, we can use this again on each line of the array"
   ]
  },
  {
   "cell_type": "code",
   "execution_count": null,
   "metadata": {},
   "outputs": [],
   "source": [
    "separated_text = []\n",
    "for line in text_split:\n",
    "    tss = line.split(\" \")\n",
    "    tss = [x for x in tss if x!=''] # what does this do?\n",
    "    separated_text.append(tss)\n",
    "print(separated_text)"
   ]
  },
  {
   "cell_type": "code",
   "execution_count": null,
   "metadata": {},
   "outputs": [],
   "source": [
    "counter = 0\n",
    "zaid_t = []\n",
    "cross_sections = []\n",
    "for line in separated_text:\n",
    "    if line == ['-1']:\n",
    "        counter += 1\n",
    "    if counter < 2 and line != ['-1'] and line[1].isalpha() == False:\n",
    "        if line[1][-1] == '0':\n",
    "            zaid_t.append(line[1][:-1])\n",
    "            cross_sections.append(line[2])\n",
    "print(zaid_t)\n",
    "print(cross_sections)\n",
    "print(len(zaid_t))"
   ]
  },
  {
   "cell_type": "code",
   "execution_count": null,
   "metadata": {},
   "outputs": [],
   "source": [
    "import pandas as pd \n",
    "df = pd.DataFrame()"
   ]
  },
  {
   "cell_type": "code",
   "execution_count": null,
   "metadata": {},
   "outputs": [],
   "source": [
    "df['zaid_numbers'] = zaid\n",
    "df['lw_thermal_cs'] = cross_sections\n",
    "df"
   ]
  },
  {
   "cell_type": "code",
   "execution_count": null,
   "metadata": {},
   "outputs": [],
   "source": [
    "with open('PWRU50.LIB','r') as f:\n",
    "    text = f.read()\n",
    "text_split = text.split(\"\\n\")\n",
    "separated_text = []\n",
    "for line in text_split:\n",
    "    tss = line.split(\" \")\n",
    "    tss = [x for x in tss if x!=''] # what does this do?\n",
    "    separated_text.append(tss)\n",
    "counter = 0\n",
    "zaid = []\n",
    "cross_sections = []\n",
    "for line in separated_text:\n",
    "    if line == ['-1']:\n",
    "        counter += 1\n",
    "    if counter < 2 and line != ['-1'] and line[1].isalpha() == False:\n",
    "        if line[1][-1] == '0':\n",
    "            zaid.append(line[1][:-1])\n",
    "            cross_sections.append(line[2])\n",
    "print(len(zaid))"
   ]
  },
  {
   "cell_type": "code",
   "execution_count": null,
   "metadata": {},
   "outputs": [],
   "source": [
    "dictionary = {}\n",
    "dictionary['1001'] = ['1']\n",
    "dictionary['1001'].append('3')\n",
    "print(dictionary)"
   ]
  },
  {
   "cell_type": "code",
   "execution_count": null,
   "metadata": {},
   "outputs": [],
   "source": [
    "dictionary = {}\n",
    "library_list = ['THERMAL.LIB', 'PWRU50.LIB','CANDUSEU.LIB', 'CANDUNAU.LIB']\n",
    "lib_counter = 1\n",
    "for library in library_list:\n",
    "    with open(library,'r') as f:\n",
    "        text = f.read()\n",
    "    text_split = text.split(\"\\n\")\n",
    "    separated_text = []\n",
    "    for line in text_split:\n",
    "        tss = line.split(\" \")\n",
    "        tss = [x for x in tss if x!=''] # what does this do?\n",
    "        separated_text.append(tss)\n",
    "    counter = 0\n",
    "    zaid = []\n",
    "    cross_sections = []\n",
    "    for line in separated_text:\n",
    "        if line == ['-1']:\n",
    "            counter += 1\n",
    "        if counter < 2 and line != ['-1'] and line[1].isalpha() == False:\n",
    "            if line[1][-1] == '0':\n",
    "                zaid.append(line[1][:-1])\n",
    "                if line[2][-1] == 'E':\n",
    "                    line[2] = line[2] + '+' + line[3]\n",
    "                cross_sections.append(line[2])\n",
    "    for i in range(len(zaid)):\n",
    "        if zaid[i] not in dictionary:\n",
    "            dictionary[zaid[i]] = [cross_sections[i]]\n",
    "            while len(dictionary[zaid[i]]) < lib_counter:\n",
    "                dictionary[zaid[i]].insert(0, '-1')\n",
    "        else:\n",
    "            if len(dictionary[zaid[i]]) < lib_counter:\n",
    "                dictionary[zaid[i]].append(cross_sections[i])\n",
    "                while len(dictionary[zaid[i]]) < lib_counter:\n",
    "                    dictionary[zaid[i]].insert(0, '-1')\n",
    "    lib_counter += 1\n",
    "print(dictionary)"
   ]
  },
  {
   "cell_type": "code",
   "execution_count": null,
   "metadata": {},
   "outputs": [],
   "source": [
    "df = pd.DataFrame(dictionary)\n",
    "better_df = df.T\n",
    "better_df.columns = library_list\n",
    "better_df"
   ]
  }
 ],
 "metadata": {
  "kernelspec": {
   "display_name": "Python 3",
   "language": "python",
   "name": "python3"
  },
  "language_info": {
   "codemirror_mode": {
    "name": "ipython",
    "version": 3
   },
   "file_extension": ".py",
   "mimetype": "text/x-python",
   "name": "python",
   "nbconvert_exporter": "python",
   "pygments_lexer": "ipython3",
   "version": "3.11.5"
  }
 },
 "nbformat": 4,
 "nbformat_minor": 2
}
